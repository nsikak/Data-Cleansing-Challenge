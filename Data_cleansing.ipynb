{
 "cells": [
  {
   "cell_type": "code",
   "execution_count": 417,
   "metadata": {},
   "outputs": [
    {
     "name": "stdout",
     "output_type": "stream",
     "text": [
      "<class 'pandas.core.frame.DataFrame'>\n",
      "RangeIndex: 127 entries, 0 to 126\n",
      "Data columns (total 3 columns):\n",
      " #   Column       Non-Null Count  Dtype \n",
      "---  ------       --------------  ----- \n",
      " 0   First Name   127 non-null    object\n",
      " 1   Last Name    127 non-null    object\n",
      " 2   transaction  127 non-null    object\n",
      "dtypes: object(3)\n",
      "memory usage: 3.1+ KB\n",
      "None\n",
      "  First Name    Last Name                                        transaction\n",
      "0    nooeukw  uuoaklowalb  {'tx_id': '5ed3d67b8723c11444c43283', 'tx_date...\n",
      "1    angulbo        seagn  {'tx_id': '5ed3d67b8723c11444c43283', 'tx_date...\n",
      "2     dukowi    eukloomja  {'tx_id': '5ed3d67b8723c11444c43283', 'tx_date...\n",
      "3  ltuoawiob   uuilawobmn  {'tx_id': '5ed3d67b8723c11444c43283', 'tx_date...\n",
      "4    nakuolo       donald  {'tx_id': '5ed3d67b8723c11444c43283', 'tx_date...\n"
     ]
    }
   ],
   "source": [
    "import seaborn as sns\n",
    "import pandas as pd\n",
    "import ast\n",
    "from datetime import datetime,date\n",
    "import numpy as np\n",
    "\n",
    "\n",
    "data=pd.read_excel('Desktop/data_cleansing/Killa.xlsx')\n",
    "#Convert string to dict\n",
    "data['transaction']=data['transaction'].apply(lambda x:ast.literal_eval(x))\n",
    "print(data.info())\n",
    "print(data.head(5))"
   ]
  },
  {
   "cell_type": "markdown",
   "metadata": {},
   "source": [
    "# Splitting the dictionary\n"
   ]
  },
  {
   "cell_type": "code",
   "execution_count": 418,
   "metadata": {},
   "outputs": [
    {
     "name": "stdout",
     "output_type": "stream",
     "text": [
      "Mean age is:33.62222222222222\n",
      "Median age is:32.0\n",
      "Standard Deviation is:8.67509561622333\n"
     ]
    },
    {
     "data": {
      "text/html": [
       "<div>\n",
       "<style scoped>\n",
       "    .dataframe tbody tr th:only-of-type {\n",
       "        vertical-align: middle;\n",
       "    }\n",
       "\n",
       "    .dataframe tbody tr th {\n",
       "        vertical-align: top;\n",
       "    }\n",
       "\n",
       "    .dataframe thead th {\n",
       "        text-align: right;\n",
       "    }\n",
       "</style>\n",
       "<table border=\"1\" class=\"dataframe\">\n",
       "  <thead>\n",
       "    <tr style=\"text-align: right;\">\n",
       "      <th></th>\n",
       "      <th>First Name</th>\n",
       "      <th>Last Name</th>\n",
       "      <th>tx_date</th>\n",
       "      <th>tx_amount</th>\n",
       "      <th>tx_channel</th>\n",
       "      <th>bank_name</th>\n",
       "      <th>Age</th>\n",
       "    </tr>\n",
       "  </thead>\n",
       "  <tbody>\n",
       "    <tr>\n",
       "      <th>0</th>\n",
       "      <td>nooeukw</td>\n",
       "      <td>uuoaklowalb</td>\n",
       "      <td>2020-06-13T05:28:47.543000Z</td>\n",
       "      <td>6192</td>\n",
       "      <td>web</td>\n",
       "      <td>QBank</td>\n",
       "      <td>28</td>\n",
       "    </tr>\n",
       "    <tr>\n",
       "      <th>1</th>\n",
       "      <td>angulbo</td>\n",
       "      <td>seagn</td>\n",
       "      <td>2020-06-12T20:22:38.986000Z</td>\n",
       "      <td>38445</td>\n",
       "      <td>mobile</td>\n",
       "      <td>ABank</td>\n",
       "      <td>33</td>\n",
       "    </tr>\n",
       "    <tr>\n",
       "      <th>2</th>\n",
       "      <td>dukowi</td>\n",
       "      <td>eukloomja</td>\n",
       "      <td>2020-06-13T06:00:46.904000Z</td>\n",
       "      <td>29627</td>\n",
       "      <td>mobile</td>\n",
       "      <td>GBank</td>\n",
       "      <td>29</td>\n",
       "    </tr>\n",
       "    <tr>\n",
       "      <th>3</th>\n",
       "      <td>ltuoawiob</td>\n",
       "      <td>uuilawobmn</td>\n",
       "      <td>2020-06-13T16:10:51.479000Z</td>\n",
       "      <td>27791</td>\n",
       "      <td>web</td>\n",
       "      <td>KBank</td>\n",
       "      <td>40</td>\n",
       "    </tr>\n",
       "    <tr>\n",
       "      <th>4</th>\n",
       "      <td>nakuolo</td>\n",
       "      <td>donald</td>\n",
       "      <td>2020-06-13T05:28:47.543000Z</td>\n",
       "      <td>6192</td>\n",
       "      <td>web</td>\n",
       "      <td>QBank</td>\n",
       "      <td>33</td>\n",
       "    </tr>\n",
       "  </tbody>\n",
       "</table>\n",
       "</div>"
      ],
      "text/plain": [
       "  First Name    Last Name                      tx_date  tx_amount tx_channel  \\\n",
       "0    nooeukw  uuoaklowalb  2020-06-13T05:28:47.543000Z       6192        web   \n",
       "1    angulbo        seagn  2020-06-12T20:22:38.986000Z      38445     mobile   \n",
       "2     dukowi    eukloomja  2020-06-13T06:00:46.904000Z      29627     mobile   \n",
       "3  ltuoawiob   uuilawobmn  2020-06-13T16:10:51.479000Z      27791        web   \n",
       "4    nakuolo       donald  2020-06-13T05:28:47.543000Z       6192        web   \n",
       "\n",
       "  bank_name  Age  \n",
       "0     QBank   28  \n",
       "1     ABank   33  \n",
       "2     GBank   29  \n",
       "3     KBank   40  \n",
       "4     QBank   33  "
      ]
     },
     "execution_count": 418,
     "metadata": {},
     "output_type": "execute_result"
    }
   ],
   "source": [
    "for i in data['transaction'][0].keys():\n",
    "        data[i]=data['transaction'].apply(lambda x: x[i][0].split()[0] if(i=='dob') else x[i])\n",
    "        \n",
    "#Remove time stamp from dob column\n",
    "data['dob']=pd.to_datetime(data['dob'],errors='coerce').apply(lambda x:x.date())\n",
    "\n",
    "#get today's date \n",
    "curr_date=date.today()\n",
    "\n",
    "#Calculate age dob - current date\n",
    "data['Age']= (curr_date-data['dob']).dt.days.div(365.25).round(0)\n",
    "\n",
    "#Calculate mean,median, std\n",
    "mean_age=np.mean(data.Age[data['Age'].isna()== False])\n",
    "median_age=np.median(data.Age[data['Age'].isna()== False])\n",
    "std_age=np.std(data.Age[data['Age'].isna()== False])\n",
    "print('Mean age is:'+str(mean_age)+'\\n'+'Median age is:' +str(median_age)+'\\n'+ 'Standard Deviation is:' +str(std_age))\n",
    "\n",
    "\n",
    "\n",
    "data.Age.fillna(mean_age,inplace=True)\n",
    "data['Age'] = data['Age'].astype(int)\n",
    "data_new=data[['First Name','Last Name','tx_date','tx_amount','tx_channel','bank_name','Age']]\n",
    "data_new.head(5)"
   ]
  },
  {
   "cell_type": "markdown",
   "metadata": {},
   "source": [
    "\n",
    "\n",
    "\n",
    "\n",
    "\n",
    "\n",
    "\n",
    "\n",
    "# Top Five(5) Ages"
   ]
  },
  {
   "cell_type": "code",
   "execution_count": 416,
   "metadata": {},
   "outputs": [
    {
     "data": {
      "image/png": "[encoded data removed]",
      "text/plain": [
       "<Figure size 1080x504 with 2 Axes>"
      ]
     },
     "metadata": {
      "needs_background": "light"
     },
     "output_type": "display_data"
    },
    {
     "name": "stdout",
     "output_type": "stream",
     "text": [
      "    Age  Frequency\n",
      "9    33         82\n",
      "6    29          6\n",
      "13   40          5\n",
      "15   44          4\n",
      "8    32          4\n"
     ]
    }
   ],
   "source": [
    "from matplotlib import pyplot as plt\n",
    "import seaborn as sns\n",
    "\n",
    "\n",
    "data_new_grp=data_new.groupby('Age').count().rename(columns={'First Name':'Frequency'})\n",
    "data_new_grp.reset_index(inplace=True)\n",
    "data_new_sorted=data_new_grp.sort_values(by=['Frequency'],ascending=False)\n",
    "customer_age_count=data_new_sorted['Frequency']\n",
    "customer_age=data_new_sorted.Age.unique()\n",
    "# Filter Top 5\n",
    "top5=data_new_sorted.head(5)\n",
    "fig=plt.figure(figsize=(15,7))\n",
    "fig.add_subplot(222)\n",
    "bar1=sns.barplot(top5.Age,top5['Frequency'],estimator=np.mean,order=top5.Age)\n",
    "plt.ylabel('Age Frequency')\n",
    "plt.xlabel('Age')\n",
    "plt.title('Top 5 Most Common Ages')\n",
    "fig.add_subplot(221)\n",
    "bar2=sns.barplot(customer_age,customer_age_count,estimator=np.mean,order=customer_age,orient='v')\n",
    "plt.ylabel('Age Frequency')\n",
    "plt.xlabel('Age')\n",
    "plt.title('Age Frequency In Descending Order')\n",
    "\n",
    "def autolabel(rects):\n",
    "    for rect in rects:\n",
    "        height=rect.get_height()\n",
    "        ax.text(rect.get_x() +rect.get_width()/2.,1.05*height,'%d' % int(height), ha='center',va='bottom')\n",
    "\n",
    "plt.show()\n",
    "print(top5[['Age','Frequency']])"
   ]
  },
  {
   "cell_type": "markdown",
   "metadata": {},
   "source": [
    "# Bank with highest volume of transactions"
   ]
  },
  {
   "cell_type": "code",
   "execution_count": 394,
   "metadata": {},
   "outputs": [
    {
     "name": "stdout",
     "output_type": "stream",
     "text": [
      "  bank_name  tx_amount\n",
      "0     ABank    1230240\n",
      "1     GBank     948064\n",
      "2     KBank     861521\n",
      "3     QBank     198144\n"
     ]
    },
    {
     "data": {
      "image/png": "[encoded data removed]",
      "text/plain": [
       "<Figure size 1080x216 with 1 Axes>"
      ]
     },
     "metadata": {
      "needs_background": "light"
     },
     "output_type": "display_data"
    }
   ],
   "source": [
    "bank_name=list(set(data_new['bank_name']))\n",
    "bank_trans_count=data_new.groupby('bank_name').sum()\n",
    "bank_trans_count.reset_index(inplace=True)\n",
    "print(bank_trans_count[['bank_name','tx_amount']])\n",
    "plt.figure(figsize=(15,3))\n",
    "sns.barplot(x='tx_amount',y='bank_name',data=bank_trans_count,orient='h')\n",
    "plt.xticks(rotation=45)\n",
    "plt.ylabel('Bank Name')\n",
    "plt.xlabel('Volume of Transactions')\n",
    "plt.title('Transactions Per Bank')\n",
    "plt.show()"
   ]
  },
  {
   "cell_type": "markdown",
   "metadata": {},
   "source": [
    "# Distribution by Channel"
   ]
  },
  {
   "cell_type": "code",
   "execution_count": 414,
   "metadata": {},
   "outputs": [
    {
     "data": {
      "text/plain": [
       "<function matplotlib.pyplot.plot(*args, scalex=True, scaley=True, data=None, **kwargs)>"
      ]
     },
     "execution_count": 414,
     "metadata": {},
     "output_type": "execute_result"
    },
    {
     "data": {
      "image/png": "[encoded data removed]",
      "text/plain": [
       "<Figure size 1440x360 with 2 Axes>"
      ]
     },
     "metadata": {
      "needs_background": "light"
     },
     "output_type": "display_data"
    }
   ],
   "source": [
    "channel_name=list(set(data_new['tx_channel']))\n",
    "channel_trans_count=data_new.groupby('tx_channel').sum()['tx_amount']\n",
    "fig=plt.figure(figsize=(20,5))\n",
    "fig.add_subplot(221)\n",
    "plt.pie(x=channel_trans_count,labels=channel_name,autopct='%1.1f%%',shadow=True)\n",
    "plt.title('Proportion by Channels')\n",
    "fig.add_subplot(222)\n",
    "sns.barplot(channel_name,channel_trans_count)\n",
    "plt.ylabel('Distribution of tranactions')\n",
    "plt.title('Transactions Based on Channels')\n",
    "plt.plot"
   ]
  },
  {
   "cell_type": "code",
   "execution_count": null,
   "metadata": {},
   "outputs": [],
   "source": []
  }
 ],
 "metadata": {
  "kernelspec": {
   "display_name": "Python 3",
   "language": "python",
   "name": "python3"
  },
  "language_info": {
   "codemirror_mode": {
    "name": "ipython",
    "version": 3
   },
   "file_extension": ".py",
   "mimetype": "text/x-python",
   "name": "python",
   "nbconvert_exporter": "python",
   "pygments_lexer": "ipython3",
   "version": "3.7.6"
  }
 },
 "nbformat": 4,
 "nbformat_minor": 4
}
